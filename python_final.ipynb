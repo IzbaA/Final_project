{
 "cells": [
  {
   "cell_type": "markdown",
   "id": "3e13ddca",
   "metadata": {},
   "source": [
    "#1 task"
   ]
  },
  {
   "cell_type": "code",
   "execution_count": 20,
   "id": "2e829c9b",
   "metadata": {},
   "outputs": [],
   "source": [
    "import numpy as np\n",
    "import pandas as pd"
   ]
  },
  {
   "cell_type": "code",
   "execution_count": 39,
   "id": "7db539d8",
   "metadata": {
    "scrolled": true
   },
   "outputs": [
    {
     "data": {
      "text/html": [
       "<div>\n",
       "<style scoped>\n",
       "    .dataframe tbody tr th:only-of-type {\n",
       "        vertical-align: middle;\n",
       "    }\n",
       "\n",
       "    .dataframe tbody tr th {\n",
       "        vertical-align: top;\n",
       "    }\n",
       "\n",
       "    .dataframe thead th {\n",
       "        text-align: right;\n",
       "    }\n",
       "</style>\n",
       "<table border=\"1\" class=\"dataframe\">\n",
       "  <thead>\n",
       "    <tr style=\"text-align: right;\">\n",
       "      <th></th>\n",
       "      <th>job_title</th>\n",
       "      <th>hh_title</th>\n",
       "      <th>age</th>\n",
       "      <th>salary</th>\n",
       "      <th>exp_period</th>\n",
       "      <th>title_of_exp</th>\n",
       "    </tr>\n",
       "  </thead>\n",
       "  <tbody>\n",
       "    <tr>\n",
       "      <th>0</th>\n",
       "      <td>data analyst</td>\n",
       "      <td>Data analyst</td>\n",
       "      <td>22.0</td>\n",
       "      <td>NaN</td>\n",
       "      <td>2.67</td>\n",
       "      <td>Data Analyst</td>\n",
       "    </tr>\n",
       "    <tr>\n",
       "      <th>1</th>\n",
       "      <td>data analyst</td>\n",
       "      <td>Data Analyst</td>\n",
       "      <td>21.0</td>\n",
       "      <td>NaN</td>\n",
       "      <td>0.83</td>\n",
       "      <td>Junior Data Analyst</td>\n",
       "    </tr>\n",
       "    <tr>\n",
       "      <th>2</th>\n",
       "      <td>data analyst</td>\n",
       "      <td>Data Analyst</td>\n",
       "      <td>30.0</td>\n",
       "      <td>NaN</td>\n",
       "      <td>7.50</td>\n",
       "      <td>Data Analyst</td>\n",
       "    </tr>\n",
       "    <tr>\n",
       "      <th>3</th>\n",
       "      <td>data analyst</td>\n",
       "      <td>Data Analyst</td>\n",
       "      <td>24.0</td>\n",
       "      <td>NaN</td>\n",
       "      <td>4.92</td>\n",
       "      <td>Data Analyst</td>\n",
       "    </tr>\n",
       "    <tr>\n",
       "      <th>4</th>\n",
       "      <td>data analyst</td>\n",
       "      <td>Data Analyst</td>\n",
       "      <td>27.0</td>\n",
       "      <td>450000.0</td>\n",
       "      <td>3.25</td>\n",
       "      <td>Business Intelligence Analyst</td>\n",
       "    </tr>\n",
       "  </tbody>\n",
       "</table>\n",
       "</div>"
      ],
      "text/plain": [
       "      job_title      hh_title   age    salary  exp_period  \\\n",
       "0  data analyst  Data analyst  22.0       NaN        2.67   \n",
       "1  data analyst  Data Analyst  21.0       NaN        0.83   \n",
       "2  data analyst  Data Analyst  30.0       NaN        7.50   \n",
       "3  data analyst  Data Analyst  24.0       NaN        4.92   \n",
       "4  data analyst  Data Analyst  27.0  450000.0        3.25   \n",
       "\n",
       "                    title_of_exp  \n",
       "0                   Data Analyst  \n",
       "1            Junior Data Analyst  \n",
       "2                   Data Analyst  \n",
       "3                   Data Analyst  \n",
       "4  Business Intelligence Analyst  "
      ]
     },
     "execution_count": 39,
     "metadata": {},
     "output_type": "execute_result"
    }
   ],
   "source": [
    "df=pd.read_csv('data.csv')\n",
    "df.head()"
   ]
  },
  {
   "cell_type": "markdown",
   "id": "37d9706a",
   "metadata": {},
   "source": [
    "#2 task"
   ]
  },
  {
   "cell_type": "code",
   "execution_count": 62,
   "id": "43f2ad21",
   "metadata": {},
   "outputs": [
    {
     "name": "stdout",
     "output_type": "stream",
     "text": [
      "        job_title   age     salary  exp_period\n",
      "4    data analyst  27.0   450000.0        3.25\n",
      "11   data analyst  25.0   860000.0        2.92\n",
      "12   data analyst  28.0   950000.0        7.25\n",
      "15   data analyst  29.0   500000.0        6.75\n",
      "21   data analyst  22.0   500000.0        3.33\n",
      "..            ...   ...        ...         ...\n",
      "989           sql  56.0      860.0       15.25\n",
      "990           sql  32.0   645000.0       10.67\n",
      "991           sql  28.0   200000.0        6.58\n",
      "992           sql  38.0   500000.0       11.42\n",
      "994           sql  29.0  1505000.0        0.58\n",
      "\n",
      "[274 rows x 4 columns]\n"
     ]
    }
   ],
   "source": [
    "df_data=df.loc[:,['job_title','age','salary','exp_period']]\n",
    "df_data=df_data.dropna()\n",
    "print(df_data)"
   ]
  },
  {
   "cell_type": "markdown",
   "id": "6e98aeb6",
   "metadata": {},
   "source": [
    "#3 and #4 task"
   ]
  },
  {
   "cell_type": "code",
   "execution_count": 63,
   "id": "4a20b0b2",
   "metadata": {},
   "outputs": [],
   "source": [
    "from sklearn.linear_model import LogisticRegression\n",
    "from sklearn.model_selection import train_test_split\n",
    "x=df_data.drop('job_title',axis=1).values\n",
    "y=df_data['job_title']"
   ]
  },
  {
   "cell_type": "markdown",
   "id": "d99b0d91",
   "metadata": {},
   "source": [
    "#5 task"
   ]
  },
  {
   "cell_type": "code",
   "execution_count": 64,
   "id": "f9bdfdec",
   "metadata": {},
   "outputs": [],
   "source": [
    "xtrain,xtest,ytrain,ytest=train_test_split(x,y,train_size=0.8,stratify=y)"
   ]
  },
  {
   "cell_type": "code",
   "execution_count": 65,
   "id": "a926a0f6",
   "metadata": {},
   "outputs": [
    {
     "data": {
      "text/plain": [
       "array([[2.800e+01, 9.500e+05, 7.250e+00],\n",
       "       [2.900e+01, 1.500e+05, 0.000e+00],\n",
       "       [2.500e+01, 8.600e+05, 2.920e+00],\n",
       "       [2.900e+01, 1.505e+06, 5.800e-01],\n",
       "       [2.700e+01, 4.500e+05, 3.250e+00],\n",
       "       [2.700e+01, 4.500e+05, 3.250e+00],\n",
       "       [2.500e+01, 8.600e+05, 2.920e+00],\n",
       "       [2.200e+01, 3.000e+05, 1.580e+00],\n",
       "       [2.800e+01, 5.000e+05, 4.330e+00],\n",
       "       [2.200e+01, 1.500e+05, 0.000e+00],\n",
       "       [2.300e+01, 5.500e+05, 2.920e+00],\n",
       "       [2.800e+01, 1.000e+06, 7.420e+00],\n",
       "       [2.200e+01, 2.000e+05, 8.300e-01],\n",
       "       [2.100e+01, 5.000e+05, 1.580e+00],\n",
       "       [3.800e+01, 1.200e+06, 1.733e+01],\n",
       "       [2.900e+01, 1.505e+06, 5.800e-01],\n",
       "       [2.800e+01, 2.000e+05, 6.580e+00],\n",
       "       [3.000e+01, 1.000e+06, 6.670e+00],\n",
       "       [2.900e+01, 1.505e+06, 5.800e-01],\n",
       "       [2.200e+01, 5.000e+05, 1.920e+00],\n",
       "       [2.100e+01, 1.200e+06, 2.330e+00],\n",
       "       [5.600e+01, 8.600e+02, 1.525e+01],\n",
       "       [2.400e+01, 3.000e+05, 7.500e-01],\n",
       "       [2.800e+01, 9.500e+05, 7.250e+00],\n",
       "       [2.000e+01, 1.500e+05, 5.000e-01],\n",
       "       [2.100e+01, 2.000e+05, 5.000e-01],\n",
       "       [3.800e+01, 1.000e+06, 1.420e+00],\n",
       "       [2.200e+01, 1.500e+05, 0.000e+00],\n",
       "       [2.500e+01, 6.000e+04, 3.830e+00],\n",
       "       [2.100e+01, 3.000e+05, 1.330e+00],\n",
       "       [2.800e+01, 4.300e+05, 4.500e+00],\n",
       "       [2.600e+01, 7.000e+05, 2.500e-01],\n",
       "       [3.000e+01, 1.000e+06, 6.670e+00],\n",
       "       [2.100e+01, 5.000e+05, 1.580e+00],\n",
       "       [3.800e+01, 5.000e+05, 1.142e+01],\n",
       "       [2.900e+01, 2.500e+05, 5.800e-01],\n",
       "       [2.500e+01, 8.600e+05, 2.920e+00],\n",
       "       [2.000e+01, 3.000e+05, 9.200e-01],\n",
       "       [3.000e+01, 1.000e+06, 6.670e+00],\n",
       "       [2.400e+01, 3.000e+05, 7.500e-01],\n",
       "       [2.900e+01, 3.000e+05, 7.170e+00],\n",
       "       [3.100e+01, 6.000e+05, 1.317e+01],\n",
       "       [2.400e+01, 8.600e+05, 4.330e+00],\n",
       "       [4.000e+01, 4.000e+05, 1.833e+01],\n",
       "       [2.100e+01, 2.000e+05, 5.000e-01],\n",
       "       [3.000e+01, 1.000e+06, 6.670e+00],\n",
       "       [2.700e+01, 4.500e+05, 3.250e+00],\n",
       "       [2.400e+01, 3.000e+05, 7.500e-01],\n",
       "       [3.200e+01, 6.450e+05, 1.067e+01],\n",
       "       [2.800e+01, 2.000e+05, 6.580e+00],\n",
       "       [2.000e+01, 1.500e+05, 4.200e-01],\n",
       "       [2.000e+01, 1.500e+05, 4.200e-01],\n",
       "       [2.400e+01, 1.500e+05, 1.330e+00],\n",
       "       [2.500e+01, 6.000e+04, 3.830e+00],\n",
       "       [2.800e+01, 1.000e+06, 7.420e+00],\n",
       "       [2.600e+01, 7.000e+05, 2.500e-01],\n",
       "       [2.100e+01, 3.000e+05, 1.330e+00],\n",
       "       [2.600e+01, 7.000e+05, 2.500e-01],\n",
       "       [2.800e+01, 1.075e+06, 5.500e+00],\n",
       "       [2.800e+01, 3.900e+05, 6.330e+00],\n",
       "       [2.700e+01, 8.000e+05, 5.750e+00],\n",
       "       [2.800e+01, 1.000e+06, 7.420e+00],\n",
       "       [2.200e+01, 1.000e+06, 1.250e+00],\n",
       "       [2.400e+01, 2.500e+05, 1.250e+00],\n",
       "       [2.100e+01, 1.200e+06, 2.330e+00],\n",
       "       [2.200e+01, 3.000e+05, 1.580e+00],\n",
       "       [2.200e+01, 2.500e+05, 8.000e-02],\n",
       "       [2.200e+01, 5.000e+05, 1.920e+00],\n",
       "       [2.200e+01, 3.000e+05, 1.580e+00],\n",
       "       [2.800e+01, 5.000e+05, 4.330e+00],\n",
       "       [2.800e+01, 3.900e+05, 6.330e+00],\n",
       "       [2.300e+01, 6.000e+04, 0.000e+00],\n",
       "       [2.900e+01, 1.500e+05, 0.000e+00],\n",
       "       [2.200e+01, 1.500e+05, 0.000e+00],\n",
       "       [5.600e+01, 8.600e+02, 1.525e+01],\n",
       "       [2.000e+01, 1.500e+05, 4.200e-01],\n",
       "       [3.000e+01, 1.000e+06, 6.670e+00],\n",
       "       [2.800e+01, 1.075e+06, 5.500e+00],\n",
       "       [2.100e+01, 2.000e+05, 5.000e-01],\n",
       "       [2.400e+01, 8.600e+05, 4.330e+00],\n",
       "       [2.200e+01, 5.000e+05, 3.330e+00],\n",
       "       [2.900e+01, 5.000e+05, 6.750e+00],\n",
       "       [2.900e+01, 3.000e+05, 7.170e+00],\n",
       "       [5.600e+01, 8.600e+02, 1.525e+01],\n",
       "       [3.100e+01, 8.000e+05, 9.670e+00],\n",
       "       [2.700e+01, 8.000e+05, 5.750e+00],\n",
       "       [2.600e+01, 2.000e+05, 2.750e+00],\n",
       "       [5.600e+01, 8.600e+02, 1.525e+01],\n",
       "       [3.100e+01, 6.000e+05, 1.317e+01],\n",
       "       [2.700e+01, 8.000e+05, 5.750e+00],\n",
       "       [5.000e+01, 9.000e+05, 2.133e+01],\n",
       "       [2.800e+01, 9.500e+05, 7.250e+00],\n",
       "       [3.800e+01, 5.000e+05, 1.142e+01],\n",
       "       [5.000e+01, 9.000e+05, 2.133e+01],\n",
       "       [2.000e+01, 3.000e+05, 9.200e-01],\n",
       "       [3.700e+01, 8.000e+05, 1.067e+01],\n",
       "       [2.200e+01, 2.000e+05, 8.300e-01],\n",
       "       [2.400e+01, 2.500e+05, 1.250e+00],\n",
       "       [2.200e+01, 1.000e+06, 1.250e+00],\n",
       "       [3.200e+01, 6.450e+05, 1.067e+01],\n",
       "       [2.700e+01, 8.000e+05, 5.750e+00],\n",
       "       [2.200e+01, 2.000e+05, 8.300e-01],\n",
       "       [2.300e+01, 6.000e+04, 0.000e+00],\n",
       "       [2.400e+01, 3.000e+05, 7.500e-01],\n",
       "       [2.100e+01, 3.000e+05, 1.330e+00],\n",
       "       [2.400e+01, 8.600e+05, 4.330e+00],\n",
       "       [2.300e+01, 5.500e+05, 2.920e+00],\n",
       "       [2.400e+01, 3.000e+05, 7.500e-01],\n",
       "       [2.000e+01, 1.500e+05, 4.200e-01],\n",
       "       [2.200e+01, 1.000e+06, 1.250e+00],\n",
       "       [2.000e+01, 1.500e+05, 4.200e-01],\n",
       "       [2.100e+01, 5.000e+05, 1.580e+00],\n",
       "       [3.700e+01, 8.000e+05, 1.067e+01],\n",
       "       [2.100e+01, 3.000e+05, 1.330e+00],\n",
       "       [3.200e+01, 6.450e+05, 1.067e+01],\n",
       "       [2.800e+01, 4.300e+05, 4.500e+00],\n",
       "       [2.800e+01, 3.900e+05, 6.330e+00],\n",
       "       [3.100e+01, 6.000e+05, 1.317e+01],\n",
       "       [2.500e+01, 6.000e+04, 3.830e+00],\n",
       "       [2.900e+01, 1.500e+05, 0.000e+00],\n",
       "       [2.200e+01, 2.000e+05, 8.300e-01],\n",
       "       [2.900e+01, 3.000e+05, 7.170e+00],\n",
       "       [2.200e+01, 5.000e+05, 3.330e+00],\n",
       "       [2.000e+01, 1.500e+05, 5.000e-01],\n",
       "       [2.900e+01, 2.500e+05, 5.800e-01],\n",
       "       [2.600e+01, 2.000e+05, 2.750e+00],\n",
       "       [3.700e+01, 8.000e+05, 1.067e+01],\n",
       "       [2.200e+01, 5.000e+05, 1.920e+00],\n",
       "       [2.900e+01, 3.000e+05, 7.170e+00],\n",
       "       [2.300e+01, 6.000e+04, 0.000e+00],\n",
       "       [2.100e+01, 5.000e+05, 1.580e+00],\n",
       "       [2.400e+01, 3.000e+05, 7.500e-01],\n",
       "       [2.800e+01, 1.000e+06, 7.420e+00],\n",
       "       [3.700e+01, 8.000e+05, 1.067e+01],\n",
       "       [4.000e+01, 4.000e+05, 1.833e+01],\n",
       "       [2.100e+01, 2.000e+05, 5.000e-01],\n",
       "       [3.800e+01, 1.200e+06, 1.733e+01],\n",
       "       [3.100e+01, 6.000e+05, 1.317e+01],\n",
       "       [2.700e+01, 4.500e+05, 3.250e+00],\n",
       "       [2.200e+01, 2.500e+05, 8.000e-02],\n",
       "       [2.800e+01, 1.000e+06, 7.420e+00],\n",
       "       [2.000e+01, 1.500e+05, 5.000e-01],\n",
       "       [2.900e+01, 1.500e+05, 0.000e+00],\n",
       "       [3.000e+01, 5.000e+05, 7.670e+00],\n",
       "       [2.900e+01, 1.505e+06, 5.800e-01],\n",
       "       [3.800e+01, 5.000e+05, 1.142e+01],\n",
       "       [2.800e+01, 3.900e+05, 6.330e+00],\n",
       "       [2.100e+01, 2.000e+05, 5.000e-01],\n",
       "       [3.800e+01, 1.200e+06, 1.733e+01],\n",
       "       [2.300e+01, 6.000e+04, 0.000e+00],\n",
       "       [2.000e+01, 7.000e+04, 5.800e-01],\n",
       "       [2.700e+01, 4.500e+05, 3.250e+00],\n",
       "       [2.400e+01, 4.000e+05, 5.000e-01],\n",
       "       [2.600e+01, 2.000e+05, 2.750e+00],\n",
       "       [5.000e+01, 9.000e+05, 2.133e+01],\n",
       "       [2.800e+01, 5.000e+05, 4.330e+00],\n",
       "       [3.000e+01, 5.000e+05, 7.670e+00],\n",
       "       [2.600e+01, 2.000e+05, 2.750e+00],\n",
       "       [2.100e+01, 5.000e+05, 1.580e+00],\n",
       "       [3.800e+01, 1.000e+06, 1.420e+00],\n",
       "       [2.200e+01, 3.000e+05, 1.580e+00],\n",
       "       [2.200e+01, 1.000e+06, 1.250e+00],\n",
       "       [3.200e+01, 6.450e+05, 1.067e+01],\n",
       "       [3.100e+01, 8.000e+05, 9.670e+00],\n",
       "       [2.200e+01, 5.000e+05, 1.920e+00],\n",
       "       [2.800e+01, 1.000e+06, 7.420e+00],\n",
       "       [2.100e+01, 3.000e+05, 1.330e+00],\n",
       "       [2.900e+01, 2.500e+05, 5.800e-01],\n",
       "       [2.400e+01, 4.000e+05, 5.000e-01],\n",
       "       [2.500e+01, 8.600e+05, 2.920e+00],\n",
       "       [2.800e+01, 1.000e+06, 7.420e+00],\n",
       "       [3.800e+01, 1.200e+06, 1.733e+01],\n",
       "       [2.000e+01, 7.000e+04, 5.800e-01],\n",
       "       [2.400e+01, 2.500e+05, 1.250e+00],\n",
       "       [2.900e+01, 5.000e+05, 6.750e+00],\n",
       "       [2.400e+01, 3.000e+05, 7.500e-01],\n",
       "       [2.800e+01, 1.075e+06, 5.500e+00],\n",
       "       [3.000e+01, 1.000e+06, 6.670e+00],\n",
       "       [2.400e+01, 1.500e+05, 1.330e+00],\n",
       "       [2.100e+01, 1.200e+06, 2.330e+00],\n",
       "       [2.900e+01, 1.505e+06, 5.800e-01],\n",
       "       [2.300e+01, 5.500e+05, 2.920e+00],\n",
       "       [3.000e+01, 1.000e+06, 6.670e+00],\n",
       "       [2.400e+01, 1.500e+05, 1.330e+00],\n",
       "       [2.600e+01, 7.000e+05, 2.500e-01],\n",
       "       [2.200e+01, 1.500e+05, 0.000e+00],\n",
       "       [5.000e+01, 9.000e+05, 2.133e+01],\n",
       "       [2.900e+01, 5.000e+05, 6.750e+00],\n",
       "       [2.800e+01, 1.000e+06, 7.420e+00],\n",
       "       [2.300e+01, 5.500e+05, 2.920e+00],\n",
       "       [3.000e+01, 1.000e+06, 6.670e+00],\n",
       "       [2.300e+01, 6.000e+04, 0.000e+00],\n",
       "       [2.000e+01, 1.500e+05, 5.000e-01],\n",
       "       [2.400e+01, 8.600e+05, 4.330e+00],\n",
       "       [2.400e+01, 4.000e+05, 5.000e-01],\n",
       "       [3.800e+01, 1.000e+06, 1.420e+00],\n",
       "       [3.700e+01, 8.000e+05, 1.067e+01],\n",
       "       [2.600e+01, 7.000e+05, 2.500e-01],\n",
       "       [2.200e+01, 2.000e+05, 8.300e-01],\n",
       "       [2.000e+01, 3.000e+05, 9.200e-01],\n",
       "       [2.100e+01, 1.200e+06, 2.330e+00],\n",
       "       [5.600e+01, 8.600e+02, 1.525e+01],\n",
       "       [2.200e+01, 3.000e+05, 1.580e+00],\n",
       "       [2.800e+01, 1.000e+06, 7.420e+00],\n",
       "       [2.900e+01, 5.000e+05, 6.750e+00],\n",
       "       [2.500e+01, 6.000e+04, 3.830e+00],\n",
       "       [2.400e+01, 1.500e+05, 1.330e+00],\n",
       "       [4.000e+01, 4.000e+05, 1.833e+01],\n",
       "       [3.100e+01, 8.000e+05, 9.670e+00],\n",
       "       [2.200e+01, 5.000e+05, 3.330e+00],\n",
       "       [3.000e+01, 5.000e+05, 7.670e+00],\n",
       "       [2.200e+01, 5.000e+05, 3.330e+00],\n",
       "       [2.000e+01, 3.000e+05, 9.200e-01],\n",
       "       [2.800e+01, 1.075e+06, 5.500e+00],\n",
       "       [2.400e+01, 8.600e+05, 4.330e+00],\n",
       "       [2.200e+01, 1.000e+06, 1.250e+00],\n",
       "       [2.300e+01, 5.500e+05, 2.920e+00],\n",
       "       [2.200e+01, 2.500e+05, 8.000e-02],\n",
       "       [3.800e+01, 1.000e+06, 1.420e+00]])"
      ]
     },
     "execution_count": 65,
     "metadata": {},
     "output_type": "execute_result"
    }
   ],
   "source": [
    "xtrain"
   ]
  },
  {
   "cell_type": "code",
   "execution_count": 66,
   "id": "2f84d400",
   "metadata": {
    "scrolled": true
   },
   "outputs": [
    {
     "data": {
      "text/plain": [
       "92     data analyst\n",
       "629          python\n",
       "131    data analyst\n",
       "834             sql\n",
       "44     data analyst\n",
       "           ...     \n",
       "759          python\n",
       "757          python\n",
       "857             sql\n",
       "644          python\n",
       "941             sql\n",
       "Name: job_title, Length: 219, dtype: object"
      ]
     },
     "execution_count": 66,
     "metadata": {},
     "output_type": "execute_result"
    }
   ],
   "source": [
    "ytrain"
   ]
  },
  {
   "cell_type": "markdown",
   "id": "86e441f4",
   "metadata": {},
   "source": [
    "#6 and #7 task"
   ]
  },
  {
   "cell_type": "code",
   "execution_count": 67,
   "id": "7dff422e",
   "metadata": {},
   "outputs": [],
   "source": [
    "from sklearn.naive_bayes import GaussianNB\n",
    "model=GaussianNB()"
   ]
  },
  {
   "cell_type": "code",
   "execution_count": 68,
   "id": "282b234f",
   "metadata": {},
   "outputs": [
    {
     "data": {
      "text/html": [
       "<style>#sk-container-id-1 {color: black;background-color: white;}#sk-container-id-1 pre{padding: 0;}#sk-container-id-1 div.sk-toggleable {background-color: white;}#sk-container-id-1 label.sk-toggleable__label {cursor: pointer;display: block;width: 100%;margin-bottom: 0;padding: 0.3em;box-sizing: border-box;text-align: center;}#sk-container-id-1 label.sk-toggleable__label-arrow:before {content: \"▸\";float: left;margin-right: 0.25em;color: #696969;}#sk-container-id-1 label.sk-toggleable__label-arrow:hover:before {color: black;}#sk-container-id-1 div.sk-estimator:hover label.sk-toggleable__label-arrow:before {color: black;}#sk-container-id-1 div.sk-toggleable__content {max-height: 0;max-width: 0;overflow: hidden;text-align: left;background-color: #f0f8ff;}#sk-container-id-1 div.sk-toggleable__content pre {margin: 0.2em;color: black;border-radius: 0.25em;background-color: #f0f8ff;}#sk-container-id-1 input.sk-toggleable__control:checked~div.sk-toggleable__content {max-height: 200px;max-width: 100%;overflow: auto;}#sk-container-id-1 input.sk-toggleable__control:checked~label.sk-toggleable__label-arrow:before {content: \"▾\";}#sk-container-id-1 div.sk-estimator input.sk-toggleable__control:checked~label.sk-toggleable__label {background-color: #d4ebff;}#sk-container-id-1 div.sk-label input.sk-toggleable__control:checked~label.sk-toggleable__label {background-color: #d4ebff;}#sk-container-id-1 input.sk-hidden--visually {border: 0;clip: rect(1px 1px 1px 1px);clip: rect(1px, 1px, 1px, 1px);height: 1px;margin: -1px;overflow: hidden;padding: 0;position: absolute;width: 1px;}#sk-container-id-1 div.sk-estimator {font-family: monospace;background-color: #f0f8ff;border: 1px dotted black;border-radius: 0.25em;box-sizing: border-box;margin-bottom: 0.5em;}#sk-container-id-1 div.sk-estimator:hover {background-color: #d4ebff;}#sk-container-id-1 div.sk-parallel-item::after {content: \"\";width: 100%;border-bottom: 1px solid gray;flex-grow: 1;}#sk-container-id-1 div.sk-label:hover label.sk-toggleable__label {background-color: #d4ebff;}#sk-container-id-1 div.sk-serial::before {content: \"\";position: absolute;border-left: 1px solid gray;box-sizing: border-box;top: 0;bottom: 0;left: 50%;z-index: 0;}#sk-container-id-1 div.sk-serial {display: flex;flex-direction: column;align-items: center;background-color: white;padding-right: 0.2em;padding-left: 0.2em;position: relative;}#sk-container-id-1 div.sk-item {position: relative;z-index: 1;}#sk-container-id-1 div.sk-parallel {display: flex;align-items: stretch;justify-content: center;background-color: white;position: relative;}#sk-container-id-1 div.sk-item::before, #sk-container-id-1 div.sk-parallel-item::before {content: \"\";position: absolute;border-left: 1px solid gray;box-sizing: border-box;top: 0;bottom: 0;left: 50%;z-index: -1;}#sk-container-id-1 div.sk-parallel-item {display: flex;flex-direction: column;z-index: 1;position: relative;background-color: white;}#sk-container-id-1 div.sk-parallel-item:first-child::after {align-self: flex-end;width: 50%;}#sk-container-id-1 div.sk-parallel-item:last-child::after {align-self: flex-start;width: 50%;}#sk-container-id-1 div.sk-parallel-item:only-child::after {width: 0;}#sk-container-id-1 div.sk-dashed-wrapped {border: 1px dashed gray;margin: 0 0.4em 0.5em 0.4em;box-sizing: border-box;padding-bottom: 0.4em;background-color: white;}#sk-container-id-1 div.sk-label label {font-family: monospace;font-weight: bold;display: inline-block;line-height: 1.2em;}#sk-container-id-1 div.sk-label-container {text-align: center;}#sk-container-id-1 div.sk-container {/* jupyter's `normalize.less` sets `[hidden] { display: none; }` but bootstrap.min.css set `[hidden] { display: none !important; }` so we also need the `!important` here to be able to override the default hidden behavior on the sphinx rendered scikit-learn.org. See: https://github.com/scikit-learn/scikit-learn/issues/21755 */display: inline-block !important;position: relative;}#sk-container-id-1 div.sk-text-repr-fallback {display: none;}</style><div id=\"sk-container-id-1\" class=\"sk-top-container\"><div class=\"sk-text-repr-fallback\"><pre>GaussianNB()</pre><b>In a Jupyter environment, please rerun this cell to show the HTML representation or trust the notebook. <br />On GitHub, the HTML representation is unable to render, please try loading this page with nbviewer.org.</b></div><div class=\"sk-container\" hidden><div class=\"sk-item\"><div class=\"sk-estimator sk-toggleable\"><input class=\"sk-toggleable__control sk-hidden--visually\" id=\"sk-estimator-id-1\" type=\"checkbox\" checked><label for=\"sk-estimator-id-1\" class=\"sk-toggleable__label sk-toggleable__label-arrow\">GaussianNB</label><div class=\"sk-toggleable__content\"><pre>GaussianNB()</pre></div></div></div></div></div>"
      ],
      "text/plain": [
       "GaussianNB()"
      ]
     },
     "execution_count": 68,
     "metadata": {},
     "output_type": "execute_result"
    }
   ],
   "source": [
    "model.fit(xtrain,ytrain)"
   ]
  },
  {
   "cell_type": "code",
   "execution_count": 69,
   "id": "eee9b568",
   "metadata": {},
   "outputs": [],
   "source": [
    "y_model=model.predict(xtest)"
   ]
  },
  {
   "cell_type": "code",
   "execution_count": 70,
   "id": "57b477e4",
   "metadata": {
    "scrolled": true
   },
   "outputs": [
    {
     "data": {
      "text/plain": [
       "0.45454545454545453"
      ]
     },
     "execution_count": 70,
     "metadata": {},
     "output_type": "execute_result"
    }
   ],
   "source": [
    "from sklearn.metrics import accuracy_score\n",
    "accuracy_score(ytest,y_model)"
   ]
  },
  {
   "cell_type": "markdown",
   "id": "568acc56",
   "metadata": {},
   "source": [
    "#8 task"
   ]
  },
  {
   "cell_type": "code",
   "execution_count": 71,
   "id": "26da5b49",
   "metadata": {},
   "outputs": [],
   "source": [
    "from sklearn.model_selection import cross_val_score"
   ]
  },
  {
   "cell_type": "code",
   "execution_count": 72,
   "id": "295b2e22",
   "metadata": {},
   "outputs": [
    {
     "data": {
      "text/plain": [
       "array([0.5       , 0.46428571, 0.46428571, 0.5       , 0.44444444,\n",
       "       0.48148148, 0.44444444, 0.48148148, 0.44444444, 0.48148148])"
      ]
     },
     "execution_count": 72,
     "metadata": {},
     "output_type": "execute_result"
    }
   ],
   "source": [
    "info=cross_val_score(model,x,y,cv=10)\n",
    "info"
   ]
  },
  {
   "cell_type": "code",
   "execution_count": 73,
   "id": "4837334c",
   "metadata": {
    "scrolled": true
   },
   "outputs": [
    {
     "data": {
      "text/plain": [
       "0.47063492063492063"
      ]
     },
     "execution_count": 73,
     "metadata": {},
     "output_type": "execute_result"
    }
   ],
   "source": [
    "info.mean()"
   ]
  },
  {
   "cell_type": "markdown",
   "id": "a8900aca",
   "metadata": {},
   "source": [
    "#9 and #10 task"
   ]
  },
  {
   "cell_type": "code",
   "execution_count": 74,
   "id": "b0313ae6",
   "metadata": {},
   "outputs": [],
   "source": [
    "from sklearn.neighbors import KNeighborsClassifier\n",
    "model=KNeighborsClassifier(n_neighbors=3)"
   ]
  },
  {
   "cell_type": "code",
   "execution_count": 75,
   "id": "638ce68b",
   "metadata": {},
   "outputs": [],
   "source": [
    "model.fit(x,y)\n",
    "y_model=model.predict(x)"
   ]
  },
  {
   "cell_type": "code",
   "execution_count": 76,
   "id": "93e50d63",
   "metadata": {},
   "outputs": [
    {
     "data": {
      "text/plain": [
       "0.9452554744525548"
      ]
     },
     "execution_count": 76,
     "metadata": {},
     "output_type": "execute_result"
    }
   ],
   "source": [
    "from sklearn.metrics import accuracy_score\n",
    "accuracy_score(y,y_model)"
   ]
  },
  {
   "cell_type": "markdown",
   "id": "1a651cec",
   "metadata": {},
   "source": [
    "#11 task"
   ]
  },
  {
   "cell_type": "code",
   "execution_count": 77,
   "id": "55c9abe3",
   "metadata": {},
   "outputs": [],
   "source": [
    "from sklearn.model_selection import LeaveOneOut"
   ]
  },
  {
   "cell_type": "code",
   "execution_count": 78,
   "id": "1a8f5d25",
   "metadata": {},
   "outputs": [
    {
     "data": {
      "text/plain": [
       "array([1., 1., 1., 1., 1., 1., 1., 1., 1., 1., 1., 1., 1., 1., 1., 1., 1.,\n",
       "       1., 1., 1., 1., 1., 1., 1., 1., 1., 1., 1., 1., 1., 1., 1., 1., 1.,\n",
       "       1., 1., 1., 1., 1., 1., 1., 1., 1., 1., 1., 1., 1., 1., 1., 1., 1.,\n",
       "       1., 1., 1., 1., 1., 1., 1., 1., 1., 1., 1., 1., 1., 1., 1., 1., 1.,\n",
       "       1., 1., 0., 1., 0., 0., 1., 1., 0., 1., 0., 0., 1., 1., 0., 1., 0.,\n",
       "       0., 1., 1., 0., 1., 0., 0., 1., 1., 0., 1., 0., 0., 1., 1., 1., 1.,\n",
       "       1., 1., 1., 1., 1., 1., 1., 1., 1., 1., 1., 1., 1., 1., 1., 1., 1.,\n",
       "       1., 1., 1., 1., 1., 1., 1., 1., 1., 1., 1., 1., 1., 1., 1., 1., 1.,\n",
       "       1., 1., 1., 1., 1., 1., 1., 1., 1., 1., 1., 1., 1., 1., 1., 1., 1.,\n",
       "       1., 1., 1., 1., 1., 1., 1., 1., 1., 1., 1., 1., 1., 1., 1., 1., 1.,\n",
       "       1., 1., 1., 1., 1., 1., 1., 1., 1., 1., 1., 1., 1., 1., 1., 1., 1.,\n",
       "       1., 1., 1., 1., 1., 1., 1., 1., 1., 1., 1., 1., 1., 1., 1., 1., 1.,\n",
       "       1., 1., 1., 1., 1., 1., 1., 1., 1., 1., 1., 1., 1., 1., 1., 1., 1.,\n",
       "       1., 1., 1., 1., 1., 1., 1., 1., 1., 1., 1., 1., 1., 1., 1., 1., 1.,\n",
       "       1., 1., 1., 1., 1., 1., 1., 1., 1., 1., 1., 1., 1., 1., 1., 1., 1.,\n",
       "       1., 1., 1., 1., 1., 1., 1., 1., 1., 1., 1., 1., 1., 1., 1., 1., 1.,\n",
       "       1., 1.])"
      ]
     },
     "execution_count": 78,
     "metadata": {},
     "output_type": "execute_result"
    }
   ],
   "source": [
    "scores=cross_val_score(model,x,y,cv=LeaveOneOut())\n",
    "scores"
   ]
  },
  {
   "cell_type": "code",
   "execution_count": 79,
   "id": "a561dca3",
   "metadata": {},
   "outputs": [
    {
     "data": {
      "text/plain": [
       "0.9452554744525548"
      ]
     },
     "execution_count": 79,
     "metadata": {},
     "output_type": "execute_result"
    }
   ],
   "source": [
    "scores.mean()"
   ]
  },
  {
   "cell_type": "code",
   "execution_count": null,
   "id": "0652d878",
   "metadata": {},
   "outputs": [],
   "source": []
  }
 ],
 "metadata": {
  "kernelspec": {
   "display_name": "Python 3 (ipykernel)",
   "language": "python",
   "name": "python3"
  },
  "language_info": {
   "codemirror_mode": {
    "name": "ipython",
    "version": 3
   },
   "file_extension": ".py",
   "mimetype": "text/x-python",
   "name": "python",
   "nbconvert_exporter": "python",
   "pygments_lexer": "ipython3",
   "version": "3.10.9"
  }
 },
 "nbformat": 4,
 "nbformat_minor": 5
}
